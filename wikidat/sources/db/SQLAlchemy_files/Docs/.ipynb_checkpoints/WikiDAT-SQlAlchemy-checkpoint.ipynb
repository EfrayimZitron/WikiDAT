{
 "metadata": {
  "name": "",
  "signature": "sha256:118e5ba42e31d60d44fd73d4cd628ff2a8409cf8b373522fc74fcb9478465a83"
 },
 "nbformat": 3,
 "nbformat_minor": 0,
 "worksheets": [
  {
   "cells": [
    {
     "cell_type": "heading",
     "level": 1,
     "metadata": {},
     "source": [
      "WikiDAT Database - SQLAlchemy ORM"
     ]
    },
    {
     "cell_type": "heading",
     "level": 2,
     "metadata": {},
     "source": [
      "The purpose of this script is to create the database used to store Wikipedia metadata using the SQLAlchemy Object Realational Mapper. The ORM allows databases to be described in Python as a high-level object-oriented abstraction; tables in the database are associated with user-defined classes.Without using this upper-level abstraction, it is diffcult to efficiently bulk-query the database. Subsequently, using the ORM allows for efficient bulk insertions  or queries. \n",
      "\n",
      "This iteration is coded for MySQL and uses the PyMySQL database connector; later versions will be for other connectors and PostgreSQL."
     ]
    },
    {
     "cell_type": "code",
     "collapsed": false,
     "input": [
      "from sqlalchemy import Column, create_engine\n",
      "from sqlalchemy.types import SMALLINT, VARBINARY\n",
      "from sqlalchemy.dialects.mysql import INTEGER, DATETIME, TEXT, TINYINT, TINYBLOB, VARCHAR\n",
      "from sqlalchemy.ext.declarative import declarative_base\n",
      "import pymysql\n",
      "import sys"
     ],
     "language": "python",
     "metadata": {},
     "outputs": []
    }
   ],
   "metadata": {}
  }
 ]
}