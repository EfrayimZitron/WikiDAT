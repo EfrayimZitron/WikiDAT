{
 "metadata": {
  "name": "",
  "signature": "sha256:3af1e4f79d79510720929375b99c7005af2297ad06705b57be108ccf0d1d5389"
 },
 "nbformat": 3,
 "nbformat_minor": 0,
 "worksheets": [
  {
   "cells": [
    {
     "cell_type": "heading",
     "level": 1,
     "metadata": {},
     "source": [
      "WikiDAT Database - SQLAlchemy ORM"
     ]
    },
    {
     "cell_type": "heading",
     "level": 2,
     "metadata": {},
     "source": [
      "The purpose of this script is to create the database used to store Wikipedia metadata using the SQLAlchemy Object Realational Mapper. The ORM allows databases to be described in Python as a high-level object-oriented abstraction; tables in the database are associated with user-defined classes. Without using this upper-level abstraction, it is diffcult to efficiently bulk-query the database. Subsequently, using the ORM allows for efficient bulk insertions  or queries. \n"
     ]
    },
    {
     "cell_type": "heading",
     "level": 2,
     "metadata": {},
     "source": [
      "Implementation"
     ]
    },
    {
     "cell_type": "heading",
     "level": 3,
     "metadata": {},
     "source": [
      "What follows are the database tables described as classes, with each attribute in the table represented as a class member. Additionally, each class has a constructor which simplifies the insertion of data when read in from data dumps."
     ]
    },
    {
     "cell_type": "code",
     "collapsed": false,
     "input": [
      "class Page(Base):\n",
      "    __tablename__ = 'page'\n",
      "    __table_args__ = params\n",
      "    page_id = Column(INTEGER(unsigned=True), nullable=False, primary_key=True)\n",
      "    page_namespace = Column(SMALLINT, nullable=False)\n",
      "    page_title = Column(VARCHAR(length=255, binary=True), nullable=False)\n",
      "    page_restrictions = Column(TINYBLOB, nullable=False)\n",
      "\n",
      "    def __init__(self, page_id=None, page_namespace=None, page_title=None, page_restrictions=None):\n",
      "        self.page_id = page_id\n",
      "        self.page_namespace = page_namespace\n",
      "        self.page_title = page_title\n",
      "        self.page_restrictions = page_restrictions"
     ],
     "language": "python",
     "metadata": {},
     "outputs": []
    }
   ],
   "metadata": {}
  }
 ]
}